{
 "cells": [
  {
   "cell_type": "code",
   "execution_count": 3,
   "metadata": {
    "collapsed": false
   },
   "outputs": [
    {
     "ename": "KeyError",
     "evalue": "\"Unable to open object (Object 'gc_no_dm' doesn't exist)\"",
     "output_type": "error",
     "traceback": [
      "\u001b[1;31m---------------------------------------------------------------------------\u001b[0m",
      "\u001b[1;31mKeyError\u001b[0m                                  Traceback (most recent call last)",
      "\u001b[1;32m<ipython-input-3-70a870b49ecf>\u001b[0m in \u001b[0;36m<module>\u001b[1;34m()\u001b[0m\n\u001b[0;32m     71\u001b[0m \u001b[1;33m\u001b[0m\u001b[0m\n\u001b[0;32m     72\u001b[0m \u001b[0mplt\u001b[0m\u001b[1;33m.\u001b[0m\u001b[0msubplot\u001b[0m\u001b[1;33m(\u001b[0m\u001b[0mgs\u001b[0m\u001b[1;33m[\u001b[0m\u001b[1;36m0\u001b[0m\u001b[1;33m,\u001b[0m\u001b[1;36m0\u001b[0m\u001b[1;33m]\u001b[0m\u001b[1;33m)\u001b[0m\u001b[1;33m\u001b[0m\u001b[0m\n\u001b[1;32m---> 73\u001b[1;33m \u001b[0mPlotSpec\u001b[0m\u001b[1;33m(\u001b[0m\u001b[0mkeys\u001b[0m\u001b[1;33m=\u001b[0m\u001b[0mcomponents\u001b[0m\u001b[1;33m,\u001b[0m \u001b[0mylim\u001b[0m\u001b[1;33m=\u001b[0m\u001b[1;33m(\u001b[0m\u001b[1;36m5e-8\u001b[0m\u001b[1;33m,\u001b[0m\u001b[1;36m1e-5\u001b[0m\u001b[1;33m)\u001b[0m\u001b[1;33m,\u001b[0m \u001b[0mcolors\u001b[0m\u001b[1;33m=\u001b[0m\u001b[0mcolors\u001b[0m\u001b[1;33m,\u001b[0m \u001b[0mdm\u001b[0m\u001b[1;33m=\u001b[0m\u001b[0mFalse\u001b[0m\u001b[1;33m)\u001b[0m\u001b[1;33m\u001b[0m\u001b[0m\n\u001b[0m\u001b[0;32m     74\u001b[0m \u001b[1;33m\u001b[0m\u001b[0m\n\u001b[0;32m     75\u001b[0m \u001b[0mlinthresh\u001b[0m \u001b[1;33m=\u001b[0m \u001b[1;36m1e-7\u001b[0m\u001b[1;33m\u001b[0m\u001b[0m\n",
      "\u001b[1;32m<ipython-input-3-70a870b49ecf>\u001b[0m in \u001b[0;36mPlotSpec\u001b[1;34m(keys, ylim, colors, dm)\u001b[0m\n\u001b[0;32m     15\u001b[0m                 \u001b[0mfit\u001b[0m \u001b[1;33m=\u001b[0m \u001b[0mh\u001b[0m\u001b[1;33m[\u001b[0m\u001b[1;34m'/fit_results/GC'\u001b[0m\u001b[1;33m]\u001b[0m\u001b[1;33m.\u001b[0m\u001b[0mattrs\u001b[0m\u001b[1;33m\u001b[0m\u001b[0m\n\u001b[0;32m     16\u001b[0m             \u001b[1;32melse\u001b[0m\u001b[1;33m:\u001b[0m\u001b[1;33m\u001b[0m\u001b[0m\n\u001b[1;32m---> 17\u001b[1;33m                 \u001b[0mfit\u001b[0m \u001b[1;33m=\u001b[0m \u001b[0mh\u001b[0m\u001b[1;33m[\u001b[0m\u001b[1;34m'/fit_results/GC_no_dm'\u001b[0m\u001b[1;33m]\u001b[0m\u001b[1;33m.\u001b[0m\u001b[0mattrs\u001b[0m\u001b[1;33m\u001b[0m\u001b[0m\n\u001b[0m\u001b[0;32m     18\u001b[0m \u001b[1;33m\u001b[0m\u001b[0m\n\u001b[0;32m     19\u001b[0m             \u001b[1;32mprint\u001b[0m \u001b[0mfit\u001b[0m\u001b[1;33m.\u001b[0m\u001b[0mkeys\u001b[0m\u001b[1;33m(\u001b[0m\u001b[1;33m)\u001b[0m\u001b[1;33m\u001b[0m\u001b[0m\n",
      "\u001b[1;32mh5py/_objects.pyx\u001b[0m in \u001b[0;36mh5py._objects.with_phil.wrapper (-------src-dir-------/h5py/_objects.c:2458)\u001b[1;34m()\u001b[0m\n",
      "\u001b[1;32mh5py/_objects.pyx\u001b[0m in \u001b[0;36mh5py._objects.with_phil.wrapper (-------src-dir-------/h5py/_objects.c:2415)\u001b[1;34m()\u001b[0m\n",
      "\u001b[1;32m/home/carlson/anaconda/lib/python2.7/site-packages/h5py/_hl/group.pyc\u001b[0m in \u001b[0;36m__getitem__\u001b[1;34m(self, name)\u001b[0m\n\u001b[0;32m    162\u001b[0m                 \u001b[1;32mraise\u001b[0m \u001b[0mValueError\u001b[0m\u001b[1;33m(\u001b[0m\u001b[1;34m\"Invalid HDF5 object reference\"\u001b[0m\u001b[1;33m)\u001b[0m\u001b[1;33m\u001b[0m\u001b[0m\n\u001b[0;32m    163\u001b[0m         \u001b[1;32melse\u001b[0m\u001b[1;33m:\u001b[0m\u001b[1;33m\u001b[0m\u001b[0m\n\u001b[1;32m--> 164\u001b[1;33m             \u001b[0moid\u001b[0m \u001b[1;33m=\u001b[0m \u001b[0mh5o\u001b[0m\u001b[1;33m.\u001b[0m\u001b[0mopen\u001b[0m\u001b[1;33m(\u001b[0m\u001b[0mself\u001b[0m\u001b[1;33m.\u001b[0m\u001b[0mid\u001b[0m\u001b[1;33m,\u001b[0m \u001b[0mself\u001b[0m\u001b[1;33m.\u001b[0m\u001b[0m_e\u001b[0m\u001b[1;33m(\u001b[0m\u001b[0mname\u001b[0m\u001b[1;33m)\u001b[0m\u001b[1;33m,\u001b[0m \u001b[0mlapl\u001b[0m\u001b[1;33m=\u001b[0m\u001b[0mself\u001b[0m\u001b[1;33m.\u001b[0m\u001b[0m_lapl\u001b[0m\u001b[1;33m)\u001b[0m\u001b[1;33m\u001b[0m\u001b[0m\n\u001b[0m\u001b[0;32m    165\u001b[0m \u001b[1;33m\u001b[0m\u001b[0m\n\u001b[0;32m    166\u001b[0m         \u001b[0motype\u001b[0m \u001b[1;33m=\u001b[0m \u001b[0mh5i\u001b[0m\u001b[1;33m.\u001b[0m\u001b[0mget_type\u001b[0m\u001b[1;33m(\u001b[0m\u001b[0moid\u001b[0m\u001b[1;33m)\u001b[0m\u001b[1;33m\u001b[0m\u001b[0m\n",
      "\u001b[1;32mh5py/_objects.pyx\u001b[0m in \u001b[0;36mh5py._objects.with_phil.wrapper (-------src-dir-------/h5py/_objects.c:2458)\u001b[1;34m()\u001b[0m\n",
      "\u001b[1;32mh5py/_objects.pyx\u001b[0m in \u001b[0;36mh5py._objects.with_phil.wrapper (-------src-dir-------/h5py/_objects.c:2415)\u001b[1;34m()\u001b[0m\n",
      "\u001b[1;32mh5py/h5o.pyx\u001b[0m in \u001b[0;36mh5py.h5o.open (-------src-dir-------/h5py/h5o.c:3507)\u001b[1;34m()\u001b[0m\n",
      "\u001b[1;31mKeyError\u001b[0m: \"Unable to open object (Object 'gc_no_dm' doesn't exist)\""
     ]
    },
    {
     "data": {
      "image/png": "[encoded data removed]",
      "text/plain": [
       "<matplotlib.figure.Figure at 0x7f8a0d769390>"
      ]
     },
     "metadata": {},
     "output_type": "display_data"
    }
   ],
   "source": [
    "import cPickle as pickle\n",
    "import h5py\n",
    "\n",
    "\n",
    "def PlotSpec(keys, ylim, colors, dm=True):\n",
    "    \n",
    "    \n",
    "    models = ['spike_template.hdf5',]\n",
    "    \n",
    "    for i, model in enumerate(models):\n",
    "        \n",
    "        if i%1==0:\n",
    "            h = h5py.File(model)\n",
    "            if dm is True:\n",
    "                fit = h['/fit_results/GC'].attrs\n",
    "            else:\n",
    "                fit = h['/fit_results/GC_no_dm'].attrs\n",
    "            \n",
    "            print fit.keys()\n",
    "            \n",
    "            for j, key in enumerate(keys):\n",
    "                lab = None\n",
    "                if (key=='flux_DM') and (dm==False):\n",
    "                    continue\n",
    "                if i == 0:\n",
    "                    lab = key.replace('flux_',\"\").replace('_','+')\n",
    "                if i == 0:\n",
    "                    plt.errorbar(fit['energies']/1e3, fit['energies']**2*fit[key]/1e3, fit['energies']**2*fit[key.replace('flux','fluxunc')][:,1]/1e3 ,\n",
    "                                 label=lab,alpha=1, color=colors[j], marker='o', markersize=2, markeredgecolor=None)\n",
    "                    \n",
    "                    \n",
    "                    if dm==True:\n",
    "                        energy, mean  = np.genfromtxt('calore_fig_12_mean.dat', delimiter=',').T\n",
    "                        energy, stdev = np.genfromtxt('calore_fig_12_upper.dat', delimiter=',').T\n",
    "                        stdev -= mean\n",
    "                        lower, upper, mean = list(mean-stdev), list(mean+stdev), list(mean)\n",
    "                        plt.step(fit['bins']/1e3, [lower[0],]+lower, color='k', alpha=0.05)\n",
    "                        plt.step(fit['bins']/1e3, [upper[0],]+upper, color='k', alpha=0.05)\n",
    "                        plt.step(fit['bins']/1e3, [mean[0],]+mean, color='k', alpha=0.05)\n",
    "\n",
    "                        prev = fit['bins'][0]/1e3\n",
    "                        for k, end in enumerate(fit['bins'][1:]/1e3):    \n",
    "                            plt.fill_between([prev,end], [lower[k],lower[k]] , [upper[k],upper[k]], alpha=0.01, color='gold', edgecolor=(0,0,0,0))\n",
    "                            prev=end\n",
    "                        \n",
    "                    \n",
    "                else:\n",
    "                    plt.loglog(fit['energies']/1e3, fit['energies']**2*fit[key]/1e3,label=lab,alpha=1, c=colors[j])\n",
    "            \n",
    "    if dm == True:\n",
    "        plt.fill_between([.35,.43],[.05,.05],[.1,.1], alpha=.1, color='gold', edgecolor=(0,0,0,0), transform=plt.gca().transAxes)\n",
    "        plt.text(.45,.075,'Corr. Sys. Calore et al (2015)', verticalalignment='center', transform=plt.gca().transAxes, fontsize=10)\n",
    "        \n",
    "    \n",
    "    plt.legend(frameon=False, fontsize=10, ncol=1)        \n",
    "            \n",
    "    plt.ylim(ylim)\n",
    "    plt.xlim(3e-1,2.5e2)\n",
    "    plt.ylabel(r'$\\rm{E^2\\ dN/dE\\ [GeV/cm^2/s/sr]}$')\n",
    "    plt.xlabel(r'$\\rm{E\\ [GeV]}$')\n",
    "    \n",
    "\n",
    "import matplotlib.gridspec as gridspec\n",
    "gs = gridspec.GridSpec(2, 2, height_ratios=[1.25,1])\n",
    "\n",
    "plt.figure(figsize=(10,9))\n",
    "\n",
    "components = ['flux_DM', 'flux_Bubbles', 'flux_Isotropic',u'flux_Pi0_Brems', u'flux_ICS', 'flux_Pi0_Spike','flux_ICS_Spike']\n",
    "colors = ['steelblue','goldenrod','firebrick', 'darkseagreen','violet','red', 'blue']\n",
    "\n",
    "\n",
    "plt.subplot(gs[0,0])\n",
    "PlotSpec(keys=components, ylim=(5e-8,1e-5), colors=colors, dm=False)\n",
    "\n",
    "linthresh = 1e-7\n",
    "\n",
    "plt.yscale('symlog', linthreshy=linthresh, subsy=np.arange(0,10), linscaley=0.1)\n",
    "plt.xscale('log')\n",
    "#plt.grid(axis='y', which='both')\n",
    "plt.ylim(-1e-6,1e-5)\n",
    "plt.fill_between((.01,1e3), (-linthresh, -linthresh), (linthresh,linthresh), color='b', alpha=.04 )\n",
    "plt.hlines((-linthresh,0, linthresh),1e-3,1e5, alpha=.5, color='k')\n",
    "\n",
    "#plt.savefig('/home/carlson/Dropbox/GCE_H2_Sources/plots/spectral_plots_semilogy_P8.pdf', bbox_inches='tight')"
   ]
  },
  {
   "cell_type": "code",
   "execution_count": 2,
   "metadata": {
    "collapsed": false
   },
   "outputs": [
    {
     "name": "stdout",
     "output_type": "stream",
     "text": [
      "GC\n"
     ]
    }
   ],
   "source": [
    "import h5py\n",
    "\n",
    "h5 = h5py.File('./spike_template.hdf5')\n",
    "for f in h5['fit_results']:\n",
    "    print f\n",
    "    \n",
    "h5.close()"
   ]
  },
  {
   "cell_type": "code",
   "execution_count": null,
   "metadata": {
    "collapsed": true
   },
   "outputs": [],
   "source": []
  }
 ],
 "metadata": {
  "kernelspec": {
   "display_name": "Python 2",
   "language": "python",
   "name": "python2"
  },
  "language_info": {
   "codemirror_mode": {
    "name": "ipython",
    "version": 2
   },
   "file_extension": ".py",
   "mimetype": "text/x-python",
   "name": "python",
   "nbconvert_exporter": "python",
   "pygments_lexer": "ipython2",
   "version": "2.7.10"
  }
 },
 "nbformat": 4,
 "nbformat_minor": 0
}
