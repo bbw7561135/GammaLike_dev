{
 "cells": [
  {
   "cell_type": "code",
   "execution_count": null,
   "metadata": {
    "collapsed": false
   },
   "outputs": [
    {
     "name": "stdout",
     "output_type": "stream",
     "text": [
      "Warning: precomputed exposure map not found.  Reverting to slower methods, but you should run Analysis.GenExposureMap() for substantial speed increase.\n"
     ]
    }
   ],
   "source": [
    "import cPickle as pickle\n",
    "import h5py\n",
    "import sys\n",
    "sys.path.append('/data/GCE_sys/')\n",
    "import Analysis\n",
    "\n",
    "# Load the DM profile flux for a gamma=1.25 \n",
    "radius_, flux_ = pickle.load(open('../DM_radial_profile_alph_1.25.pickle', 'rb'))\n",
    "\n",
    "quadrants = [['E', -45, 45], ['N', 45, 135], ['W', 135, 225], ['S', 225, 315]]\n",
    "\n",
    "\n",
    "A = Analysis.Analysis(nside=256)\n",
    "npix_roi = np.nonzero(A.GenSquareMask(l_range=(-20,20), b_range=(-20,20), plane_mask=2))[0].shape[0]\n",
    "square_mask = A.GenSquareMask(l_range=(-20,20), b_range=(-20,20), plane_mask=2)\n",
    "\n",
    "def GetQuadrant(model, quadrant):\n",
    "    # Open the file and load the fit results of interest.\n",
    "    h = h5py.File('../mod_c/mod_k_%i_XCO_stripped.hdf5'%model)\n",
    "    fit = h['/fit_results/quadrants'].attrs\n",
    "    avR = [.5*(r1+r2) for r1, r2 in fit['radius']]\n",
    "    \n",
    "    # Find closest energy.\n",
    "    E = fit['energies']\n",
    "    \n",
    "    area_ratios = None\n",
    "    \n",
    "    for quad, start_angle, stop_angle in quadrants:\n",
    "        if quad is not quadrant: \n",
    "            continue\n",
    "        \n",
    "        if area_ratios is None:\n",
    "            # Calculate the ratio of each ring/quadrant to the total ROI in order to rescale the flux.\n",
    "            area_ratios = [npix_roi/float(np.nonzero(A.GenRadialMask(r1,r2,plane_mask=2.,start_angle=start_angle, stop_angle=stop_angle)\n",
    "                                                     *square_mask)[0].shape[0]) for r1, r2 in fit['radius']]\n",
    "        \n",
    "        # Read out the flux of each radial bin\n",
    "        radial_prof = np.array([area_ratios[i_r]*E**2/1e3*fit['flux_ring_%i'%i_r+'_'+quad] for i_r in range(len(avR))])\n",
    "        radial_prof_unc = np.array([area_ratios[i_r]*E**2/1e3*fit['fluxunc_ring_%i'%i_r+'_'+quad][:,1] for i_r in range(len(avR))])\n",
    "    return avR, radial_prof, radial_prof_unc, E/1e3\n",
    "        \n",
    "        \n",
    "\n"
   ]
  },
  {
   "cell_type": "code",
   "execution_count": null,
   "metadata": {
    "collapsed": false
   },
   "outputs": [],
   "source": [
    "\n",
    "def GetAllQuadrants(start, stop):\n",
    "    '''\n",
    "    returns a list [E,N,W,S] where E contains a list of [radius, flux, fluxunc] for each model.\n",
    "    '''\n",
    "    \n",
    "    E = [GetQuadrant(i,'E') for i in range(start,stop)]\n",
    "    N = [GetQuadrant(i,'N') for i in range(start,stop)]\n",
    "    W = [GetQuadrant(i,'W') for i in range(start,stop)]\n",
    "    S = [GetQuadrant(i,'S') for i in range(start,stop)]\n",
    "    return E, N, W, S\n",
    "\n",
    "E, N, W, S = GetAllQuadrants(0, 11)\n",
    "E_gal, N_gal, W_gal, S_gal = GetAllQuadrants(43, 54)"
   ]
  },
  {
   "cell_type": "code",
   "execution_count": null,
   "metadata": {
    "collapsed": false
   },
   "outputs": [],
   "source": [
    "radius_, flux_ = pickle.load(open('../DM_radial_profile_alph_1.25.pickle', 'rb'))\n",
    "\n",
    "def PlotQuadRadial(name, quad, energy, color , text2=''):\n",
    "    for i_model, model in enumerate(quad): \n",
    "        #print np.array(model[1])[:,10].shape\n",
    "        \n",
    "        E_bin = np.argmin(np.abs(energy-model[3]))\n",
    "        if i_model==4:\n",
    "            plt.errorbar(model[0], model[1][:,E_bin], yerr=model[2][:,E_bin],color=color, alpha=(i_model+3)/14., marker='o', markersize=2)\n",
    "            plt.plot(radius_, flux_*2.5e-30, color='k',alpha=.5,ls='--')\n",
    "            plt.text(radius_[27],flux_[25]*2.7e-30 ,r'NFW $\\alpha=1.25$',color='k',fontsize=8, alpha=.7)\n",
    "        else: \n",
    "            plt.plot(model[0], model[1][:,E_bin], color=color, alpha=(i_model+3)/14.)\n",
    "    plt.yscale('log')\n",
    "    plt.text(.75,.9, '%1.2f GeV'%model[3][E_bin], transform=plt.gca().transAxes, fontsize=9)\n",
    "    plt.text(.75,.82, name, transform=plt.gca().transAxes, fontsize=9)\n",
    "    plt.text(.75,.74, text2, transform=plt.gca().transAxes, fontsize=9)\n",
    "    if 'North' in name:\n",
    "        plt.ylabel(r'$\\rm{E^2\\ dN/dE\\ [GeV/cm^2/s/sr]}$')\n",
    "    if 10==energy:\n",
    "        plt.xlabel(r'$\\rm{\\psi\\ [Deg]}$')\n",
    "    plt.xlim(0,25)\n",
    "    plt.ylim(5e-8,1e-5)\n",
    "    \n",
    "quads = [['North',N],['West',W],['South',S],['East',E]]\n",
    "plt.figure(figsize=(15,8))\n",
    "for sp in range(1,5):\n",
    "    plt.subplot(3,4,sp)\n",
    "    PlotQuadRadial(quads[sp-1][0], quads[sp-1][1], .75, color='slateblue', text2='PEB')\n",
    "    plt.subplot(3,4,sp+4)\n",
    "    PlotQuadRadial(quads[sp-1][0], quads[sp-1][1], 2., color='goldenrod', text2='PEB' )\n",
    "    plt.subplot(3,4,sp+8, )\n",
    "    PlotQuadRadial(quads[sp-1][0], quads[sp-1][1], 10., color='darkseagreen', text2='PEB')\n",
    "plt.show()\n",
    "\n",
    "quads = [['North',N_gal],['West',W_gal],['South',S_gal],['East',E_gal]]\n",
    "plt.figure(figsize=(15,8))\n",
    "for sp in range(1,5):\n",
    "    plt.subplot(3,4,sp)\n",
    "    PlotQuadRadial(quads[sp-1][0], quads[sp-1][1], .75, color='slateblue', text2='GAL')\n",
    "    plt.subplot(3,4,sp+4)\n",
    "    PlotQuadRadial(quads[sp-1][0], quads[sp-1][1], 2., color='goldenrod', text2='GAL' )\n",
    "    plt.subplot(3,4,sp+8, )\n",
    "    PlotQuadRadial(quads[sp-1][0], quads[sp-1][1], 10., color='darkseagreen', text2='GAL')"
   ]
  },
  {
   "cell_type": "code",
   "execution_count": null,
   "metadata": {
    "collapsed": false
   },
   "outputs": [],
   "source": []
  },
  {
   "cell_type": "code",
   "execution_count": null,
   "metadata": {
    "collapsed": false
   },
   "outputs": [],
   "source": []
  },
  {
   "cell_type": "code",
   "execution_count": null,
   "metadata": {
    "collapsed": true
   },
   "outputs": [],
   "source": []
  },
  {
   "cell_type": "code",
   "execution_count": null,
   "metadata": {
    "collapsed": true
   },
   "outputs": [],
   "source": []
  }
 ],
 "metadata": {
  "kernelspec": {
   "display_name": "Python 2",
   "language": "python",
   "name": "python2"
  },
  "language_info": {
   "codemirror_mode": {
    "name": "ipython",
    "version": 2
   },
   "file_extension": ".py",
   "mimetype": "text/x-python",
   "name": "python",
   "nbconvert_exporter": "python",
   "pygments_lexer": "ipython2",
   "version": "2.7.9"
  }
 },
 "nbformat": 4,
 "nbformat_minor": 0
}
