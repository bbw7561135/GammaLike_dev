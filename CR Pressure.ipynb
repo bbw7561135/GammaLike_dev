{
 "cells": [
  {
   "cell_type": "code",
   "execution_count": 3,
   "metadata": {
    "collapsed": true
   },
   "outputs": [],
   "source": [
    "def GetGalpropNuclei(fits,A,Z,R=8.5):\n",
    "    \"\"\"\n",
    "    Given a galprop 3d nuclear file (non-full), return the energy and spectrum.\n",
    "    \n",
    "    :param fits: path to the nuclear data fits file\n",
    "    :param A: Atomic number of desired nucleus  \n",
    "    :param Z: Atomic charge of desired nucelus.  All species meeting A,Z will be summed\n",
    "    :param R: The desired radius to evaluate the spectrum. Linearly interpolated over grid\n",
    "    :returns energies, spectrum: energies in GeV, spectrum in (GeV/nuc)^2 (m^2 sr s GeV/nuc)^-1 \n",
    "    \"\"\"\n",
    "    # open the fits file\n",
    "    hdu = pyfits.open(fits)\n",
    "    \n",
    "    hdr = hdu[0].header\n",
    "    \n",
    "    # Build list of radii and energies based on header keywords.\n",
    "    r_list = np.linspace(hdr['CRVAL1'],hdr['CRVAL1']+(hdr['NAXIS1']-1)*hdr['CDELT1'],hdr['NAXIS1'])\n",
    "    energies = 10.**np.linspace(hdr['CRVAL3'],hdr['CRVAL3']+(hdr['NAXIS3']-1)*hdr['CDELT3'],hdr['NAXIS3'])\n",
    "    \n",
    "    # Build a list of the nuclei\n",
    "    A_list, Z_list = [], []\n",
    "    for nucIndex in range(hdr['NAXIS4']):\n",
    "        nucString = ('%.3f' % ((nucIndex+1)/1000.))[-3:]\n",
    "        A_list.append(hdr['NUCA'+nucString])\n",
    "        Z_list.append(hdr['NUCZ'+nucString])\n",
    "        \n",
    "    A_list = np.array(A_list)\n",
    "    Z_list = np.array(Z_list)\n",
    "    \n",
    "    z_idx = int(np.abs(hdr['CRVAL2'])/float(hdr['CDELT2']))\n",
    "    \n",
    "    \n",
    "    # Linearly interpolate spectra in radius.\n",
    "    i_r2 = np.argmax(r_list>R) # finds the first element at r>R\n",
    "    i_r1 = i_r2-1 # finds the next smallest radius.\n",
    "    dr = r_list[i_r2]-r_list[i_r1]\n",
    "    w1 = (r_list[i_r2]-R)/dr # weight for spectrum i_r1\n",
    "    w2 = 1.-w1 # weight for spectrum i_r2\n",
    "    \n",
    "    \n",
    "    master = np.zeros(hdu[0].shape[1])\n",
    "    # Find which indices contain A,Z requested.  Could be more than one since primary and secondary are specified. \n",
    "    idx = np.where((A_list==A) & (Z_list==Z))[0]\n",
    "    \n",
    "    if len(idx)==0:\n",
    "        raise Exception('No nuclei found with A,Z='+str(A)+','+str(Z))\n",
    "    for i in idx:\n",
    "        master += w1*hdu[0].data[i,:,z_idx,i_r1]\n",
    "        master += w2*hdu[0].data[i,:,z_idx,i_r2]\n",
    "  \n",
    "    return energies/1e3, master*1e4/energies**2*1e3\n",
    "\n",
    "\n",
    "def GetCRProfile(model, energy, A, Z ):\n",
    "    ebin = np.argmin(np.abs(GetGalpropNuclei(model, A, Z, R=0)[0]-energy))\n",
    "    r_list = np.linspace(-20,20,81) \n",
    "    profile = np.array([GetGalpropNuclei(model, A, Z, R=r)[1][ebin] for r in r_list])\n",
    "    return r_list, profile\n",
    "\n",
    "\n",
    "\n",
    "\n"
   ]
  },
  {
   "cell_type": "code",
   "execution_count": 4,
   "metadata": {
    "collapsed": false
   },
   "outputs": [
    {
     "ename": "NameError",
     "evalue": "name 'PlotCRProfile' is not defined",
     "output_type": "error",
     "traceback": [
      "\u001b[1;31m---------------------------------------------------------------------------\u001b[0m",
      "\u001b[1;31mNameError\u001b[0m                                 Traceback (most recent call last)",
      "\u001b[1;32m<ipython-input-4-4a88736363f0>\u001b[0m in \u001b[0;36m<module>\u001b[1;34m()\u001b[0m\n\u001b[1;32m----> 1\u001b[1;33m \u001b[0mPlotCRProfile\u001b[0m\u001b[1;33m(\u001b[0m\u001b[0menergy\u001b[0m\u001b[1;33m=\u001b[0m\u001b[1;36m2000\u001b[0m\u001b[1;33m,\u001b[0m \u001b[0mmodels\u001b[0m\u001b[1;33m=\u001b[0m\u001b[0mmodels\u001b[0m\u001b[1;33m,\u001b[0m \u001b[0mA\u001b[0m\u001b[1;33m=\u001b[0m\u001b[1;36m0\u001b[0m\u001b[1;33m,\u001b[0m \u001b[0mZ\u001b[0m\u001b[1;33m=\u001b[0m\u001b[1;36m1\u001b[0m\u001b[1;33m)\u001b[0m\u001b[1;33m\u001b[0m\u001b[0m\n\u001b[0m\u001b[0;32m      2\u001b[0m \u001b[1;33m\u001b[0m\u001b[0m\n\u001b[0;32m      3\u001b[0m \u001b[1;33m\u001b[0m\u001b[0m\n\u001b[0;32m      4\u001b[0m \u001b[1;33m\u001b[0m\u001b[0m\n",
      "\u001b[1;31mNameError\u001b[0m: name 'PlotCRProfile' is not defined"
     ]
    }
   ],
   "source": [
    "PlotCRProfile(energy=2000, models=models, A=0, Z=1)\n",
    "\n",
    "\n",
    "\n"
   ]
  },
  {
   "cell_type": "code",
   "execution_count": null,
   "metadata": {
    "collapsed": true
   },
   "outputs": [],
   "source": []
  }
 ],
 "metadata": {
  "kernelspec": {
   "display_name": "Python 2",
   "language": "python",
   "name": "python2"
  },
  "language_info": {
   "codemirror_mode": {
    "name": "ipython",
    "version": 2
   },
   "file_extension": ".py",
   "mimetype": "text/x-python",
   "name": "python",
   "nbconvert_exporter": "python",
   "pygments_lexer": "ipython2",
   "version": "2.7.10"
  }
 },
 "nbformat": 4,
 "nbformat_minor": 0
}
