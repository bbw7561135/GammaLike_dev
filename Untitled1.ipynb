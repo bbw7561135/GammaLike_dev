{
 "cells": [
  {
   "cell_type": "code",
   "execution_count": 1,
   "metadata": {
    "collapsed": true
   },
   "outputs": [],
   "source": [
    "import pymultinest\n"
   ]
  },
  {
   "cell_type": "code",
   "execution_count": 2,
   "metadata": {
    "collapsed": false
   },
   "outputs": [
    {
     "name": "stderr",
     "output_type": "stream",
     "text": [
      "-c:23: RuntimeWarning: divide by zero encountered in log\n"
     ]
    }
   ],
   "source": [
    "import json\n",
    "import numpy\n",
    "from numpy import log, exp, pi\n",
    "import scipy.stats, scipy\n",
    "import pymultinest\n",
    "import matplotlib.pyplot as plt\n",
    "\n",
    "# we define the problem: we need a prior function which maps from [0:1] to the parameter space\n",
    "\n",
    "# # we only have one parameter, the position of the gaussian (ndim == 1)\n",
    "# # map it from the unity interval 0:1 to our problem space 0:2 under a uniform prior\n",
    "def prior(cube, ndim, nparams):\n",
    "    cube[0] = cube[0] * 2\n",
    "\n",
    "# our likelihood function consists of 6 gaussians modes (solutions) at the positions\n",
    "positions = numpy.array([0.1, 0.2, 0.5, 0.55, 0.9, 1.1])\n",
    "width = 0.01\n",
    "\n",
    "def loglike(cube, ndim, nparams):\n",
    "    # get the current parameter (is between 0:2 now)\n",
    "    pos = cube[0]\n",
    "    likelihood = exp(-0.5 * ((pos - positions) / width)**2) / (2*pi*width**2)**0.5\n",
    "    return log(likelihood.mean())\n",
    "\n",
    "# # number of dimensions our problem has\n",
    "parameters = [\"position\"]\n",
    "n_params = len(parameters)\n",
    "\n",
    "# # run MultiNest\n",
    "pymultinest.run(loglike, prior, n_params, outputfiles_basename='/home/carlson/MultiNest/',\n",
    "    resume = False, verbose = True)\n",
    "json.dump(parameters, open('/home/carlson/MultiNest/params.json', 'w')) # save parameter names\n",
    "\n",
    "# now run the script and analyse the output using multinest_marginals.py::\n",
    "# \n",
    "#    $ python 1_1d_multimodal.py &&  multinest_marginals.py 1_1d_multimodal_out\n",
    "#\n",
    "# then open the file 1_1d_multimodal_outmarg.pdf\n",
    "#\n",
    "# Btw, ln(ev) should be ln(1 / 2)"
   ]
  },
  {
   "cell_type": "code",
   "execution_count": 5,
   "metadata": {
    "collapsed": false
   },
   "outputs": [],
   "source": [
    "from scipy.integrate import quad \n",
    "\n",
    "# Taken from 1405.7928\n",
    "P_ic = lambda E: \n",
    "\n",
    "\n",
    "# From pg 464 of Very high energy cosmic gamma radiation by Aharonian\n",
    "def DeltaU(gam, gam_t):\n",
    "    \n",
    "    delta = 0.33 \n",
    "    D0 = 4e+28\n",
    "    \n",
    "    func = lambda x: D0*(x/10.)**delta / (b*x**-2)\n",
    "    \n",
    "    quad(  )\n",
    "    #np.\n",
    "    \n",
    "    "
   ]
  },
  {
   "cell_type": "code",
   "execution_count": null,
   "metadata": {
    "collapsed": true
   },
   "outputs": [],
   "source": []
  }
 ],
 "metadata": {
  "kernelspec": {
   "display_name": "Python 2",
   "language": "python",
   "name": "python2"
  },
  "language_info": {
   "codemirror_mode": {
    "name": "ipython",
    "version": 2
   },
   "file_extension": ".py",
   "mimetype": "text/x-python",
   "name": "python",
   "nbconvert_exporter": "python",
   "pygments_lexer": "ipython2",
   "version": "2.7.10"
  }
 },
 "nbformat": 4,
 "nbformat_minor": 0
}
