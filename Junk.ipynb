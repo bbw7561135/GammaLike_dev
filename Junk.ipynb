{
 "cells": [
  {
   "cell_type": "code",
   "execution_count": null,
   "metadata": {
    "collapsed": false
   },
   "outputs": [],
   "source": [
    "%pylab inline\n",
    "import Template, Analysis\n",
    "t = {'t':Template.Template(np.zeros(10)),}"
   ]
  },
  {
   "cell_type": "code",
   "execution_count": null,
   "metadata": {
    "collapsed": true
   },
   "outputs": [],
   "source": [
    "print '%20s' % 'NAME', '%25s' % 'LIMITS', '%10s' % 'VALUE', '%10s' % 'FIX_NORM', '%10s' % 'FIX_SPEC'\n",
    "for key in t:\n",
    "            temp = t[key]\n",
    "            print '%20s' % key, '%25s' % temp.limits, '%10s' % temp.value, '%10s' % temp.fixNorm, '%10s' % temp.fixSpectrum"
   ]
  },
  {
   "cell_type": "code",
   "execution_count": null,
   "metadata": {
    "collapsed": true
   },
   "outputs": [],
   "source": [
    "reload(Analysis)\n",
    "\n",
    "A = Analysis.Analysis()\n",
    "A.AddPointSourceTemplate()"
   ]
  },
  {
   "cell_type": "code",
   "execution_count": null,
   "metadata": {
    "collapsed": true
   },
   "outputs": [],
   "source": [
    "A.AddTemplate('test',np.zeros(10))\n",
    "A.AddTemplate('test2',np.zeros(10))\n",
    "\n",
    "A.PrintTemplates()\n",
    "\n",
    "A.RemoveTemplate('test')\n",
    "A.PrintTemplates()"
   ]
  },
  {
   "cell_type": "code",
   "execution_count": null,
   "metadata": {
    "collapsed": true
   },
   "outputs": [],
   "source": [
    "E,flux,fluxUnc = np.genfromtxt('iso_clean_v05.txt').T\n",
    "\n",
    "\n",
    "\n",
    "\n",
    "# Build a power law interpolator\n",
    "fluxInterp = lambda x: np.exp(np.interp(np.log(x),np.log(E),np.log(flux)))\n",
    "fluxUncInterp = lambda x: np.exp(np.interp(np.log(x),np.log(E),np.log(fluxUnc)))\n",
    "\n",
    "fluxInterp(1)"
   ]
  },
  {
   "cell_type": "code",
   "execution_count": null,
   "metadata": {
    "collapsed": true
   },
   "outputs": [],
   "source": [
    "f = np.zeros(shape=(1000,1000))\n",
    "f2 = np.zeros(shape=(100,100))\n",
    "\n",
    "\n",
    "%timeit f[:100,:100]*f[:100,:100]\n",
    "%timeit f2*f2"
   ]
  },
  {
   "cell_type": "code",
   "execution_count": null,
   "metadata": {
    "collapsed": true
   },
   "outputs": [],
   "source": [
    "a = np.ones(shape=(2,3,3))\n",
    "print np.inner([2,3],a)"
   ]
  },
  {
   "cell_type": "code",
   "execution_count": null,
   "metadata": {
    "collapsed": true
   },
   "outputs": [],
   "source": [
    "import Template, Analysis, Likelihood\n",
    "reload(Analysis)\n",
    "A = Analysis.Analysis()"
   ]
  },
  {
   "cell_type": "code",
   "execution_count": null,
   "metadata": {
    "collapsed": false
   },
   "outputs": [],
   "source": [
    "A.AddIsotropicTemplate()\n",
    "A.BinPhotons()\n",
    "A.AddPointSourceTemplate()\n",
    "A.GenSquareMask(l_range=[-20,20],b_range=[-20,20],plane_mask=2)\n",
    "A.PrintTemplates()"
   ]
  },
  {
   "cell_type": "code",
   "execution_count": null,
   "metadata": {
    "collapsed": true
   },
   "outputs": [],
   "source": []
  },
  {
   "cell_type": "code",
   "execution_count": null,
   "metadata": {
    "collapsed": false
   },
   "outputs": [],
   "source": [
    "import GammaLikelihood as like\n",
    "reload(like)\n",
    "#healpy.mollview(A.binned_data[10])\n",
    "\n",
    "m, res = like.RunLikelihood(A,print_level=2,use_basinhopping=True)"
   ]
  },
  {
   "cell_type": "code",
   "execution_count": null,
   "metadata": {
    "collapsed": true
   },
   "outputs": [],
   "source": [
    "for i in range(24):\n",
    "    print np.mean(A.templateList['PSC'].healpixCube[i]),np.mean(A.binned_data[i])"
   ]
  },
  {
   "cell_type": "code",
   "execution_count": null,
   "metadata": {
    "collapsed": true
   },
   "outputs": [],
   "source": [
    "print m.fitarg\n",
    "norms=[]\n",
    "bins = []\n",
    "for i in range(24):\n",
    "    bins.append(A.bin_edges[i])\n",
    "    norms.append( m.fitarg['PSC_'+str(i)])\n",
    "    \n",
    "plt.loglog(bins,norms)    \n",
    "\n",
    "print A.mask\n",
    "idx = np.where(A.mask!=0)[0]\n",
    "np.mean(A.binned_data[0,idx])"
   ]
  },
  {
   "cell_type": "code",
   "execution_count": null,
   "metadata": {
    "collapsed": false
   },
   "outputs": [],
   "source": [
    "print list(A.bin_edges"
   ]
  },
  {
   "cell_type": "code",
   "execution_count": null,
   "metadata": {
    "collapsed": true
   },
   "outputs": [],
   "source": [
    "x = np.vectorize(log)\n",
    "%timeit np.log(a)\n",
    "%timeit np.sum(a)"
   ]
  },
  {
   "cell_type": "code",
   "execution_count": null,
   "metadata": {
    "collapsed": true
   },
   "outputs": [],
   "source": [
    "print len(np.nonzero(A.GenSquareMask(l_range=[-20,20],b_range=[-20,20],plane_mask=2))[0])\n",
    "print np.shape(np.nonzero(A.mask))"
   ]
  },
  {
   "cell_type": "code",
   "execution_count": null,
   "metadata": {
    "collapsed": true
   },
   "outputs": [],
   "source": [
    "import pycuda.driver as drv\n",
    "import pycuda.tools\n",
    "import pycuda.autoinit\n",
    "import numpy\n",
    "import numpy.linalg as la\n",
    "from pycuda.compiler import SourceModule\n",
    "\n",
    "mod = SourceModule(\"\"\"\n",
    "__global__ void multiply_them(float *dest, float *a, float *b)\n",
    "{\n",
    "  const int i = threadIdx.x;\n",
    "  dest[i] = a[i] * b[i];\n",
    "}\n",
    "\"\"\")\n",
    "\n",
    "multiply_them = mod.get_function(\"multiply_them\")\n",
    "\n",
    "a = numpy.random.randn(400).astype(numpy.float32)\n",
    "b = numpy.random.randn(400).astype(numpy.float32)\n",
    "\n",
    "dest = numpy.zeros_like(a)\n",
    "#multiply_them(\n",
    "#        drv.Out(dest), drv.In(a), drv.In(b),\n",
    "#        block=(40000,1,1))\n",
    "\n",
    "#print dest-a*b\n",
    "\n",
    "%timeit multiply_them(drv.Out(dest), drv.In(a), drv.In(b),block=(400,1,1))\n",
    "\n",
    "%timeit a*b"
   ]
  },
  {
   "cell_type": "code",
   "execution_count": null,
   "metadata": {
    "collapsed": true
   },
   "outputs": [],
   "source": []
  },
  {
   "cell_type": "code",
   "execution_count": null,
   "metadata": {
    "collapsed": true
   },
   "outputs": [],
   "source": [
    "import pycuda.driver as drv"
   ]
  },
  {
   "cell_type": "code",
   "execution_count": null,
   "metadata": {
    "collapsed": true
   },
   "outputs": [],
   "source": [
    "import numpy as np\n",
    "import cudamat as cm\n",
    "\n",
    "cm.cublas_init()\n",
    "\n",
    "# create two random matrices and copy them to the GPU\n",
    "a = cm.CUDAMatrix(np.random.rand(320, 2560))\n",
    "b = cm.CUDAMatrix(np.random.rand(2560, 320))\n",
    "\n",
    "# perform calculations on the GPU\n",
    "%timeit c = cm.dot(a, b)\n",
    "%timeit d = c.sum(axis = 0)\n",
    "\n",
    "\n",
    "\n",
    "a = np.random.rand(320, 2560)\n",
    "b = np.random.rand(2560, 320)\n",
    "\n",
    "%timeit np.dot(a,b)\n",
    "%timeit np.sum(b)\n",
    "\n",
    "# copy d back to the host (CPU) and print\n",
    "print d.asarray()"
   ]
  },
  {
   "cell_type": "code",
   "execution_count": null,
   "metadata": {
    "collapsed": true
   },
   "outputs": [],
   "source": [
    "a = cm.CUDAMatrix(np.random.rand(24, 26786))\n",
    "b = cm.CUDAMatrix(np.random.rand(24, 26786))\n",
    "\n",
    "cm.dot(a,b.T)\n",
    "%timeit cm.log(a).asarray()"
   ]
  },
  {
   "cell_type": "code",
   "execution_count": null,
   "metadata": {
    "collapsed": true
   },
   "outputs": [],
   "source": [
    "a = np.random.rand(320, 2560)\n",
    "%timeit cm.CUDAMatrix(a)"
   ]
  },
  {
   "cell_type": "code",
   "execution_count": null,
   "metadata": {
    "collapsed": true
   },
   "outputs": [],
   "source": [
    "a = cm.CUDAMatrix(np.zeros((2, 2)))\n",
    "a.add(np.e**2 target=)\n",
    "print cm.log(a).asarray()\n",
    "print a.asarray()"
   ]
  },
  {
   "cell_type": "code",
   "execution_count": null,
   "metadata": {
    "collapsed": false
   },
   "outputs": [],
   "source": []
  },
  {
   "cell_type": "code",
   "execution_count": null,
   "metadata": {
    "collapsed": false
   },
   "outputs": [],
   "source": [
    "b, l = np.deg2rad((b,l))\n",
    "d = np.rad2deg(np.arctan2(np.sqrt(np.square(np.cos(b)*np.sin(l) )+np.square(np.sin(b))),np.cos(b)*np.cos(l) ))\n",
    "print d"
   ]
  },
  {
   "cell_type": "code",
   "execution_count": null,
   "metadata": {
    "collapsed": false
   },
   "outputs": [],
   "source": [
    "np.sqrt((20**2+20**2))"
   ]
  },
  {
   "cell_type": "code",
   "execution_count": null,
   "metadata": {
    "collapsed": false
   },
   "outputs": [],
   "source": []
  },
  {
   "cell_type": "code",
   "execution_count": null,
   "metadata": {
    "collapsed": false
   },
   "outputs": [],
   "source": [
    "import DM\n",
    "import healpy\n",
    "reload(DM)\n",
    "healpy.cartview(DM.GenNFW(decay=False, axesratio=1,offset=(0,0),mult_solid_ang=True))\n",
    "#healpy.cartview(DM.GenNFW(),latra=(-30,30),lonra=(-30,30))\n",
    "\n",
    "import Template, Analysis\n",
    "import GammaLikelihood as like\n",
    "reload(Analysis)\n",
    "A = Analysis.Analysis()\n",
    "A.BinPhotons()"
   ]
  },
  {
   "cell_type": "code",
   "execution_count": null,
   "metadata": {
    "collapsed": false
   },
   "outputs": [],
   "source": [
    "import pyfits\n",
    "hdu = pyfits.open('/data/fermi_data_1-8-14/gtsrcmap_ALL_BOTH.fits')\n",
    "hdu.info()\n",
    "\n",
    "plt.imshow(np.log10(hdu[0].data[0]),origin='lower',extent=[-180,180,-90,90])\n",
    "plt.xlim(180,-180)\n",
    "plt.colorbar()\n",
    "plt.show()\n",
    "\n",
    "healpy.cartview(np.log10(A.binned_data[0]),)"
   ]
  },
  {
   "cell_type": "code",
   "execution_count": null,
   "metadata": {
    "collapsed": true
   },
   "outputs": [],
   "source": [
    "print A.bin_edges\n"
   ]
  },
  {
   "cell_type": "code",
   "execution_count": null,
   "metadata": {
    "collapsed": true
   },
   "outputs": [],
   "source": []
  }
 ],
 "metadata": {
  "kernelspec": {
   "display_name": "IPython (Python 2)",
   "name": "python2"
  },
  "language_info": {
   "codemirror_mode": {
    "name": "ipython",
    "version": 2
   },
   "file_extension": ".py",
   "mimetype": "text/x-python",
   "name": "python",
   "nbconvert_exporter": "python",
   "pygments_lexer": "ipython2"
  },
  "signature": "sha256:b212e323b1b489921fef62b9b33bc26e837a66e2ed060f7b087edce7b4122186"
 },
 "nbformat": 4,
 "nbformat_minor": 0
}