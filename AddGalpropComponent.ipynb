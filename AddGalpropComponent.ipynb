{
 "cells": [
  {
   "cell_type": "code",
   "execution_count": 9,
   "metadata": {
    "collapsed": false
   },
   "outputs": [
    {
     "name": "stdout",
     "output_type": "stream",
     "text": [
      "Loading FITS\n",
      "Integrating and Resampling ics templates...\n",
      "Integrating and Resampling pi0 templates...\n",
      "Integrating and Resampling brem templates...\n",
      "CPU times: user 3min 23s, sys: 4.15 s, total: 3min 28s\n",
      "Wall time: 40.5 s\n"
     ]
    }
   ],
   "source": [
    "import Tools, healpy\n",
    "reload(Tools)\n",
    "import Analysis\n",
    "A = Analysis.Analysis()\n",
    "self = A\n",
    "import sys\n",
    "\n",
    "import multiprocessing as mp\n",
    "\n",
    "def AddGalpropTemplate(basedir='/data/fermi_diffuse_models/galprop.stanford.edu/PaperIISuppMaterial/OUTPUT',\n",
    "               tag='SNR_z4kpc_R20kpc_Ts150K_EBV2mag', verbosity=1, multiplier=1., bremsfrac=None, E_subsample=3):\n",
    "    \"\"\"\n",
    "    This method takes a base analysis prefix, along with an X_CO profile and generates the combined diffuse template, \n",
    "    or components of the diffuse template. \n",
    "    \n",
    "    :param basedir: Base directory to read from\n",
    "    :param tag: Tag for the galprop file.  This is the part between '_54_' and '.gz'. \n",
    "    :param verbosity: 0 is quiet, >1 prints status.\n",
    "    :param multiplier: Blur each map using Gaussian kernel with sigma=FWHM_PSF*multiplier/2\n",
    "    :param bremsfrac: If None, brems is treated as independent.  Otherwise Brem normalization\n",
    "        is linked to Pi0 normalization, scaled by a factor bremsfrac.\n",
    "    :param E_subsample: Number of energy sub bins to use when integrating over each energy band.\n",
    "    \"\"\"\n",
    "    \n",
    "    #---------------------------------------------------------------------------------\n",
    "    # Load templates\n",
    "    \n",
    "    if verbosity>0:\n",
    "        print 'Loading FITS'\n",
    "        \n",
    "    comps, comps_new = {}, {}\n",
    "    comps['ics'] = pyfits.open(basedir+'/ics_isotropic_healpix_54_'+tag+'.gz')[1].data.field(0).T\n",
    "    comps['pi0'] = pyfits.open(basedir+'/pi0_decay_healpix_54_'+tag+'.gz')[1].data.field(0).T\n",
    "    comps['brem'] = pyfits.open(basedir+'/bremss_healpix_54_'+tag+'.gz')[1].data.field(0).T\n",
    "    \n",
    "    energies = pyfits.open(basedir+'/bremss_healpix_54_'+tag+'.gz')[2].data.field(0)\n",
    "    nside_in = np.sqrt(comps['ics'].shape[1]/12)\n",
    "    \n",
    "    # Init new templates\n",
    "    comps_new['ics'] = np.zeros((self.n_bins, 12*self.nside**2))\n",
    "    comps_new['pi0'] = np.zeros((self.n_bins, 12*self.nside**2))\n",
    "    comps_new['brem'] = np.zeros((self.n_bins, 12*self.nside**2))\n",
    "    \n",
    "    #---------------------------------------------------------------------------------\n",
    "    # Now we integrate each model over the energy bins...\n",
    "    # \n",
    "    # Multiprocessing for speed. There is an async callback which applies each result to \n",
    "    # the arrays.  Not sure why RunAsync needs new thread pool for each component, but this\n",
    "    # works and decreases memory footprint. \n",
    "    def callback(result):\n",
    "        idx, comp, dat = result \n",
    "        comps_new[comp][idx] = dat\n",
    "    \n",
    "    def RunAsync(component):\n",
    "        p = mp.Pool(mp.cpu_count())\n",
    "        for i_E in range(self.n_bins):    \n",
    "            p.apply_async(Tools.__AsyncInterpolateHealpix, \n",
    "                           [comps[component], energies, self.bin_edges[i_E], self.bin_edges[i_E+1], i_E,\n",
    "                            component, 3, self.nside],\n",
    "                           callback=callback)\n",
    "        p.close()\n",
    "        p.join()\n",
    "    \n",
    "    # For each component, run the async sampling/sizing. \n",
    "    for key in comps:\n",
    "        if verbosity>0:\n",
    "            print 'Integrating and Resampling', key, 'templates...'\n",
    "        RunAsync(key)\n",
    "        \n",
    "        \n",
    "    #---------------------------------------------------------------------------------\n",
    "    # Now we just need to add the templates to the active template stack\n",
    "    \n",
    "    # Delete previous keys for diffuse model\n",
    "    for key in ['Brems', 'Pi0', 'ICS', 'FermiDiffuse', 'Pi0+Brems']:\n",
    "        self.templateList.pop(key, None)\n",
    "    \n",
    "    \n",
    "    self.AddTemplate(name='ICS', healpixCube=comps_new['ics'], fixSpectrum=True, fixNorm=False,\n",
    "                       value=1, ApplyIRF=True, sourceClass='GEN', limits=[0, 10.], multiplier=multiplier)\n",
    "    \n",
    "    if bremsfrac is None:\n",
    "        self.AddTemplate(name='Brems', healpixCube=comps_new['brem'], fixSpectrum=True, fixNorm=False,\n",
    "                           value=1, ApplyIRF=True, sourceClass='GEN', limits=[0, 10.], multiplier=multiplier)\n",
    "        self.AddTemplate(name='Pi0', healpixCube=comps_new['pi0'], fixSpectrum=True, fixNorm=False,\n",
    "                           value=1, ApplyIRF=True, sourceClass='GEN', limits=[0, 10.], multiplier=multiplier)\n",
    "    \n",
    "    else: \n",
    "        self.AddTemplate(name='Pi0+Brems', healpixCube=comps_new['pi0']+bremsfrac*comps_new['brem'],\n",
    "                           fixSpectrum=True, fixNorm=False,\n",
    "                           value=1, ApplyIRF=True, sourceClass='GEN', limits=[0, 10.], multiplier=multiplier)\n",
    "\n",
    "\n",
    "    \n",
    "%time AddGalpropTemplate()\n",
    "\n"
   ]
  },
  {
   "cell_type": "code",
   "execution_count": 17,
   "metadata": {
    "collapsed": false
   },
   "outputs": [
    {
     "name": "stdout",
     "output_type": "stream",
     "text": [
      "[0, 1, 4, 9, 16, 25, 36, 49, 64, 81]\n"
     ]
    }
   ],
   "source": [
    "results = []\n",
    "\n",
    "def test(x):\n",
    "    return x*x\n",
    "\n",
    "def callback(result):\n",
    "    results.append(result)\n",
    "    \n",
    "p = mp.Pool(mp.cpu_count())    \n",
    "\n",
    "for i in range(10):\n",
    "    p.apply_async(test, [i,], callback=callback)\n",
    "p.close()\n",
    "p.join()\n",
    "\n",
    "print results"
   ]
  },
  {
   "cell_type": "code",
   "execution_count": 14,
   "metadata": {
    "collapsed": true
   },
   "outputs": [],
   "source": []
  },
  {
   "cell_type": "code",
   "execution_count": null,
   "metadata": {
    "collapsed": true
   },
   "outputs": [],
   "source": []
  }
 ],
 "metadata": {
  "kernelspec": {
   "display_name": "IPython (Python 2)",
   "name": "python2"
  },
  "language_info": {
   "codemirror_mode": {
    "name": "ipython",
    "version": 2
   },
   "file_extension": ".py",
   "mimetype": "text/x-python",
   "name": "python",
   "nbconvert_exporter": "python",
   "pygments_lexer": "ipython2"
  },
  "signature": "sha256:0ff2ca2a50908aece5a278dd0b207379f4e9b0da0f557bc76a3e9c372fe24d29"
 },
 "nbformat": 4,
 "nbformat_minor": 0
}