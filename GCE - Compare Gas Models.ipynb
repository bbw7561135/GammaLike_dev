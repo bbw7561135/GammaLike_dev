{
 "cells": [
  {
   "cell_type": "code",
   "execution_count": 3,
   "metadata": {
    "collapsed": false
   },
   "outputs": [
    {
     "name": "stdout",
     "output_type": "stream",
     "text": [
      "                NAME                    LIMITS      VALUE    FIXNORM    FIXSPEC   SRCCLASS\n",
      "                 PSC              [None, None]  1.000e+00       True       True        PSC\n",
      "             Bubbles              [None, None]  1.000e+00      False      False        GEN\n",
      "                  DM              [None, None]  1.000e+00      False      False        GEN\n",
      "           Isotropic              [None, None]  1.000e+00      False      False        ISO\n"
     ]
    }
   ],
   "source": [
    "import Analysis\n",
    "import cPickle as pickle\n",
    "reload(Analysis)\n",
    "\n",
    "A = Analysis.Analysis(tag='P7REP_CLEAN_V15_calore')\n",
    "\n",
    "A.GenSquareMask(l_range=[-20.,20.], b_range=[-20.,20.], plane_mask=2.)\n",
    "A.BinPhotons(infile='binned_photons_'+A.tag+'.npy')\n",
    "\n",
    "# Load 2FGL \n",
    "A.AddPointSourceTemplate(fixNorm=True)\n",
    "\n",
    "A.CalculatePixelWeights(diffuse_model='fermi_diffuse_'+A.tag+'.npy',psc_model='PSC_' + A.tag + '.npy',\n",
    "                        alpha_psc=5., f_psc=0.05)\n",
    "\n",
    "A.AddIsotropicTemplate(fixNorm=False, fixSpectrum=False) # External chi^2 used to fix normalization within uncertainties\n",
    "\n",
    "A.AddFermiBubbleTemplate(template_file='./bubble_templates_diskcut30.0.fits', \n",
    "                         spec_file='./reduced_bubble_spec_apj_793_64.dat', fixSpectrum=False, fixNorm=False)\n",
    "\n",
    "A.AddDMTemplate(profile='NFW', limits=[None,None], decay=False, gamma=1.25, \n",
    "               r_s=20.0, axesratio=1, offset=(0, 0), spec_file=None,)\n",
    "\n",
    "A.PrintTemplates()"
   ]
  },
  {
   "cell_type": "code",
   "execution_count": 8,
   "metadata": {
    "collapsed": false
   },
   "outputs": [],
   "source": [
    "models = ['base_2D', 'base','Pohl_HI_8500','Pohl_H2_8500', 'Pohl_HI_H2_8500']\n",
    "models = ['base_2D','Pohl_HI_8500_L','Pohl_HI_8500_O','Pohl_HI_8500_S','Pohl_HI_8500_Y']\n",
    "#models = ['Tavakoli_HI_L']\n",
    "models = ['mod_b_'+ str(i) for i in range(33,33)]\n",
    "#models = ['base_2D',]\n",
    "# Load various diffuse models and run fits.\n",
    "for galprop_tag in models:\n",
    "    print galprop_tag\n",
    "    A = Analysis.Analysis(tag='P7REP_CLEAN_V15_calore')\n",
    "    A.GenSquareMask(l_range=[-20.,20.], b_range=[-20.,20.], plane_mask=2.)\n",
    "    A.BinPhotons(infile='binned_photons_'+A.tag+'.npy')\n",
    "    # Load 2FGL \n",
    "    A.AddPointSourceTemplate(fixNorm=True)\n",
    "    A.CalculatePixelWeights(diffuse_model='fermi_diffuse_'+A.tag+'.npy',psc_model='PSC_' + A.tag + '.npy',\n",
    "                        alpha_psc=5., f_psc=0.05)\n",
    "    A.AddIsotropicTemplate(fixNorm=False, fixSpectrum=False) # External chi^2 used to fix normalization within uncertainties\n",
    "    A.AddFermiBubbleTemplate(template_file='./bubble_templates_diskcut30.0.fits', \n",
    "                         spec_file='./reduced_bubble_spec_apj_793_64.dat', fixSpectrum=False, fixNorm=False)\n",
    "    A.AddDMTemplate(profile='NFW', limits=[None,None], decay=False, gamma=1.25, \n",
    "               r_s=20.0, axesratio=1, offset=(0, 0), spec_file=None,)\n",
    "    \n",
    "    #A.ResetFit()\n",
    "#     try:\n",
    "#         A.AddGalpropTemplate('/data/galprop2/output/',galprop_tag,verbosity=1, multiplier=1., bremsfrac=1.25, \n",
    "#                       E_subsample=1, fixSpectrum=False)\n",
    "#     except:\n",
    "    A.AddHDF5Template(hdf5file=galprop_tag+'.hdf5',verbosity=1, multiplier=2., bremsfrac=1.25, \n",
    "                  E_subsample=2, fixSpectrum=False, separate_ics=False)\n",
    "    A.RunLikelihood(print_level=1, tol=2e2, precision=None, minos=False)\n",
    "    base = A.SaveFit(filename='./results/FitResult_'+ galprop_tag + '.pickle')\n",
    "\n",
    "\n"
   ]
  },
  {
   "cell_type": "code",
   "execution_count": 14,
   "metadata": {
    "collapsed": false
   },
   "outputs": [],
   "source": [
    "import pickle\n",
    "plt.figure(figsize=(5,10))\n",
    "\n",
    "#models = ['base_2D','Pohl_H2_8500_old_secondary']#,'Pohl_H2_8500']\n",
    "#models = ['base_2D','Pohl_HI_8500_L','Pohl_HI_8500_O','Pohl_HI_8500_S','Pohl_HI_8500_Y']#,'Pohl_H2_8500']\n",
    "\n",
    "#fits = [pickle.load(open('./results/FitResult_'+ galprop_tag + '.pickle','rb')) for galprop_tag in models]\n",
    "\n",
    "models = ['mod_'+ str(i) for i in range(59)]\n",
    "fits = []\n",
    "\n",
    "for galprop_tag in models:\n",
    "        try:\n",
    "            mod = pickle.load(open('./results/FitResult_'+ galprop_tag + '.pickle','rb'))\n",
    "            fits.append(mod)\n",
    "        except:\n",
    "            pass\n",
    "\n",
    "plt.subplot(311)\n",
    "\n",
    "\n",
    "\n",
    "for i in range(len(models)):\n",
    "    try:\n",
    "        fit = fits[i]\n",
    "        print 'log-like, TS:', models[i], np.sum(fit['loglike']), 2*(np.sum(fits[0]['loglike'])-np.sum(fit['loglike']))\n",
    "\n",
    "        E, flux, stat = fit['energies'], fit['DM']['flux'], fit['DM']['fluxunc']\n",
    "        model = models[i].replace('_no_secondary','').replace('_','-')\n",
    "\n",
    "        if i==0:\n",
    "    #         plt.errorbar(E/1e3,E**2*flux/1e3,(E**2*stat[:,0]/1e3,E**2*stat[:,1]/1e3), \n",
    "    #                      label=model,capthick=1, capsize=2, ls=':' )\n",
    "            plt.errorbar(E/1e3,E**2*flux/1e3,(E**2*stat[:]/1e3,E**2*stat[:]/1e3), \n",
    "                         label=model,capthick=1, capsize=2, ls=':' )\n",
    "        else:\n",
    "            plt.errorbar(E/1e3,E**2*flux/1e3, \n",
    "                         label=model,capthick=1, capsize=2, ls='-' )\n",
    "\n",
    "\n",
    "\n",
    "        #E, flux, stat = fit['energies'], fit['Pi0_Brems']['flux'], fit['Pi0_Brems']['fluxunc']\n",
    "        #model = models[i].replace('_no_secondary','').replace('_','-')\n",
    "\n",
    "        if i==0:\n",
    "    #         plt.errorbar(E/1e3,E**2*flux/1e3,(E**2*stat[:,0]/1e3,E**2*stat[:,1]/1e3), \n",
    "    #                      label=model,capthick=1, capsize=2, ls=':' )\n",
    "            plt.errorbar(E/1e3,E**2*flux/1e3,(E**2*stat[:]/1e3,E**2*stat[:]/1e3), \n",
    "                         capthick=1, capsize=2, ls=':' )\n",
    "        else:\n",
    "            plt.errorbar(E/1e3,E**2*flux/1e3, \n",
    "                         capthick=1, capsize=2, ls='-' )\n",
    "    except:\n",
    "        pass\n",
    "        \n",
    "        \n",
    "plt.legend(frameon=False, fontsize=8)\n",
    "plt.yscale('log')\n",
    "plt.xscale('log')\n",
    "plt.ylabel(r'$\\rm{E^2\\ dN/dE\\ [GeV/cm^2/s/sr]}$')\n",
    "plt.xlabel(r'$\\rm{E\\ [GeV]}$')\n",
    "plt.ylim(5e-8,4e-6)\n",
    "\n",
    "\n",
    "E, f0, stat0 = fits[0]['energies'], fits[0]['DM']['flux'], fits[0]['DM']['fluxunc']\n",
    "\n",
    "for i in range(1,len(models)):\n",
    "    try:\n",
    "        plt.subplot(312)\n",
    "        fit = fits[i]\n",
    "        E, flux, stat = fit['energies'], fit['DM']['flux'], fit['DM']['fluxunc']\n",
    "        model = models[i].replace('_no_secondary','').replace('_','-')\n",
    "\n",
    "        plt.errorbar(E/1e3,flux/f0, label=model,capthick=1, capsize=2, ls='-' )\n",
    "\n",
    "        #plt.yscale('log')\n",
    "        plt.xscale('log')\n",
    "        plt.ylim(0,2)\n",
    "        plt.ylabel(r'GCE Ratio')\n",
    "        plt.xlabel(r'$\\rm{E\\ [GeV]}$')\n",
    "        plt.legend(frameon=False, fontsize=8)\n",
    "\n",
    "        plt.subplot(313)\n",
    "\n",
    "\n",
    "        TS = -2*(np.array(fit['loglike'])-np.array(fits[0]['loglike']))\n",
    "        plt.plot(E/1e3, TS)\n",
    "        plt.ylabel('TS')\n",
    "        #print \"TS:\", TS\n",
    "        plt.xlabel(r'$\\rm{E\\ [GeV]}$')\n",
    "        plt.xscale('log')\n",
    "        plt.ylim(-200,200)\n",
    "    except:\n",
    "        pass\n",
    "    \n",
    "\n",
    "#plt.errorbar(E/1e3,np.ones(len(E)),yerr=(np.abs(stat0[:,0])/f0,stat0[:,1]/f0), linestyle='')\n",
    "\n",
    "# plt.xscale('log')\n",
    "# plt.ylabel(r'$\\rm{Ratio\\ of\\ GCE\\ 3FGL/2FGL}$')\n",
    "# plt.xlabel(r'$\\rm{E\\ [GeV]}$')\n",
    "\n",
    "# plt.savefig('/home/carlson/Dropbox/plots/GCE_sys/GCE_3fgl_vs_2fgl.pdf')\n",
    "\n",
    "    "
   ]
  },
  {
   "cell_type": "code",
   "execution_count": 9,
   "metadata": {
    "collapsed": false
   },
   "outputs": [],
   "source": [
    "\n",
    "\n",
    "plt.figure(figsize=(5,6))\n",
    "\n",
    "# 2FGL \n",
    "plt.subplot(211)\n",
    "\n",
    "flux, stat = fgl2Fit['DM']['flux'], fgl2Fit['DM']['fluxunc']\n",
    "\n",
    "E = fgl2Fit['energies']\n",
    "\n",
    "plt.errorbar(E/1e3,E**2*flux/1e3,(E**2*stat[:,0]/1e3,E**2*stat[:,1]/1e3), \n",
    "             label='GCE-2FGL',capthick=1, capsize=2, ls=':' )\n",
    "\n",
    "# 3FGL \n",
    "flux3, stat3 = fgl3Fit['DM']['flux'], fgl3Fit['DM']['fluxunc']\n",
    "E = fgl3Fit['energies']\n",
    "plt.errorbar(E/1e3,E**2*flux3/1e3,(E**2*stat3[:,0]/1e3,E**2*stat3[:,1]/1e3), \n",
    "             label='GCE-3FGL',capthick=1, capsize=2, ls=':' )\n",
    "\n",
    "\n",
    "plt.legend()\n",
    "plt.yscale('log')\n",
    "plt.xscale('log')\n",
    "plt.ylabel(r'$\\rm{E^2\\ dN/dE\\ [GeV/cm^2/s/sr]}$')\n",
    "plt.xlabel(r'$\\rm{E\\ [GeV]}$')\n",
    "\n",
    "plt.subplot(212)\n",
    "\n",
    "\n",
    "plt.errorbar(E/1e3,flux3/flux, \n",
    "             label='ratio',capthick=1, capsize=2, ls=':' )\n",
    "\n",
    "\n",
    "plt.xscale('log')\n",
    "plt.ylabel(r'$\\rm{Ratio\\ of\\ GCE\\ 3FGL/2FGL}$')\n",
    "plt.xlabel(r'$\\rm{E\\ [GeV]}$')\n",
    "\n",
    "plt.savefig('/home/carlson/Dropbox/plots/GCE_sys/GCE_3fgl_vs_2fgl.pdf')\n"
   ]
  },
  {
   "cell_type": "code",
   "execution_count": 197,
   "metadata": {
    "collapsed": false
   },
   "outputs": [],
   "source": [
    "#A.PrintTemplates()\n",
    "import healpy\n",
    "print 'E', A.central_energies[13]\n",
    "m = healpy.cartview(A.psc_weights[13], return_projected_map=True,latra=[-20,20], lonra=[-20,20])\n",
    "plt.clf()\n",
    "plt.imshow(m,vmin=0,vmax=1)\n",
    "plt.colorbar()\n",
    "plt.show()"
   ]
  },
  {
   "cell_type": "code",
   "execution_count": 200,
   "metadata": {
    "collapsed": false
   },
   "outputs": [],
   "source": [
    "A.ResetFit()\n",
    "#     try:\n",
    "#         A.AddGalpropTemplate('/data/galprop2/output/',galprop_tag,verbosity=1, multiplier=1., bremsfrac=1.25, \n",
    "#                       E_subsample=1, fixSpectrum=False)\n",
    "#     except:\n",
    "A.AddHDF5Template(hdf5file='Pohl_HI_8500_L.hdf5',verbosity=1, multiplier=1., bremsfrac=1.25, \n",
    "              E_subsample=1, fixSpectrum=False, separate_ics=False)\n",
    "A.RunLikelihood(print_level=1, tol=2e2, precision=None, minos=False)\n",
    "#base = A.SaveFit(filename='./results/FitResult_'+ galprop_tag + '.pickle')"
   ]
  },
  {
   "cell_type": "code",
   "execution_count": 212,
   "metadata": {
    "collapsed": false
   },
   "outputs": [],
   "source": [
    "import healpy\n",
    "from scipy.ndimage import gaussian_filter as gf\n",
    "b = 10\n",
    "m1 = healpy.cartview(A.residual[b],lonra=[-20,20],latra=[-20,20], return_projected_map=True, hold=True)\n",
    "m2 = healpy.cartview(A2.residual[b],lonra=[-20,20],latra=[-20,20], return_projected_map=True, hold=True)\n",
    "plt.clf()\n",
    "\n",
    "print np.sum(A.loglike), np.sum(A2.loglike)\n",
    "\n",
    "plt.imshow(gf(m1,5), vmin=-5,vmax=5, cmap='bwr', origin='lower')\n",
    "plt.colorbar()\n",
    "plt.show()\n",
    "plt.imshow(gf(m2,5), vmin=-5,vmax=5, cmap='bwr', origin='lower')\n",
    "plt.colorbar()\n",
    "plt.show()\n",
    "\n",
    "plt.imshow(gf(m1,5)/gf(m2,5), vmin=-5,vmax=5, cmap='bwr', origin='lower')\n",
    "plt.colorbar()\n",
    "plt.show()\n"
   ]
  },
  {
   "cell_type": "code",
   "execution_count": 199,
   "metadata": {
    "collapsed": false
   },
   "outputs": [],
   "source": [
    "import Analysis\n",
    "import cPickle as pickle\n",
    "reload(Analysis)\n",
    "\n",
    "A2 = Analysis.Analysis(tag='P7REP_CLEAN_V15_calore')\n",
    "\n",
    "A2.GenSquareMask(l_range=[-20.,20.], b_range=[-20.,20.], plane_mask=2.)\n",
    "A2.BinPhotons(infile='binned_photons_'+A2.tag+'.npy')\n",
    "\n",
    "# Load 2FGL \n",
    "A2.AddPointSourceTemplate(fixNorm=True)\n",
    "\n",
    "A2.CalculatePixelWeights(diffuse_model='fermi_diffuse_'+A2.tag+'.npy',psc_model='PSC_' + A2.tag + '.npy',\n",
    "                        alpha_psc=5., f_psc=0.1)\n",
    "\n",
    "A2.AddIsotropicTemplate(fixNorm=False, fixSpectrum=False) # External chi^2 used to fix normalization within uncertainties\n",
    "\n",
    "A2.AddFermiBubbleTemplate(template_file='./bubble_templates_diskcut30.0.fits', \n",
    "                         spec_file='./reduced_bubble_spec_apj_793_64.dat', fixSpectrum=False, fixNorm=False)\n",
    "\n",
    "A2.AddDMTemplate(profile='NFW', limits=[None,None], decay=False, gamma=1.25, \n",
    "               r_s=20.0, axesratio=1, offset=(0, 0), spec_file=None,)\n",
    "\n",
    "A2.PrintTemplates()\n",
    "\n",
    "A2.AddHDF5Template(hdf5file='base_2D.hdf5',verbosity=1, multiplier=1., bremsfrac=1.25, \n",
    "              E_subsample=1, fixSpectrum=False, separate_ics=False)\n",
    "A2.RunLikelihood(print_level=1, tol=2e2, precision=None, minos=False)"
   ]
  },
  {
   "cell_type": "code",
   "execution_count": 177,
   "metadata": {
    "collapsed": false
   },
   "outputs": [],
   "source": [
    "from scipy import ndimage\n",
    "m = healpy.cartview(A.binned_data[10], latra=[-20,20], lonra=[-20,20], return_projected_map=True) \n",
    "plt.clf()\n",
    "plt.imshow(np.log10(ndimage.gaussian_filter(m,1)), origin='lower',vmin=0)\n",
    "plt.colorbar()\n",
    "\n"
   ]
  },
  {
   "cell_type": "code",
   "execution_count": 163,
   "metadata": {
    "collapsed": false
   },
   "outputs": [],
   "source": [
    "hdu = pyfits.open('/data/galprop2/FITS/CO_Pohl_8500_rlb.fits')\n",
    "print hdu[0].shape\n",
    "plt.figure(figsize=(6,6))\n",
    "print hdu[0].data[:,(1441-160):(1441+160),:].shape\n",
    "\n",
    "\n",
    "from scipy.ndimage.filters import gaussian_filter1d as gf\n",
    "d = np.roll(hdu[0].data,1440,axis=1)[240-160:240+160,(1441-160):(1441+160),:]\n",
    "\n",
    "d = gf(d,sigma=1 , mode='wrap', axis=1, truncate=10)\n",
    "d = gf(d,sigma=1 , mode='nearest', axis=0, truncate=10)\n",
    "d = np.clip(d, 1e-10,1e10)\n",
    "plt.imshow(np.log10(np.sum(d,axis=2)), origin='lower', vmin=-1, vmax=3)\n",
    "plt.xlim(320,0)\n",
    "plt.colorbar()\n"
   ]
  },
  {
   "cell_type": "code",
   "execution_count": 164,
   "metadata": {
    "collapsed": false
   },
   "outputs": [],
   "source": [
    "hdu = pyfits.open('/data/galprop2/FITS/rbands_co10mm_v2_2001_qdeg_9R.fits')\n",
    "print hdu[0].shape\n",
    "plt.figure(figsize=(6,6))\n",
    "print hdu[0].data[:,(1441-160):(1441+160),:].shape\n",
    "plt.imshow(np.log10(np.sum(np.roll(hdu[0].data,720,axis=2)[:,(360-80):(360+80),(720-80):(720+80)],axis=0).clip(1e-10)), \n",
    "           origin='lower', vmin=-1,vmax=3)\n",
    "plt.xlim(160,0)\n",
    "plt.colorbar()"
   ]
  },
  {
   "cell_type": "code",
   "execution_count": null,
   "metadata": {
    "collapsed": true
   },
   "outputs": [],
   "source": []
  }
 ],
 "metadata": {
  "kernelspec": {
   "display_name": "Python 2",
   "language": "python",
   "name": "python2"
  },
  "language_info": {
   "codemirror_mode": {
    "name": "ipython",
    "version": 2
   },
   "file_extension": ".py",
   "mimetype": "text/x-python",
   "name": "python",
   "nbconvert_exporter": "python",
   "pygments_lexer": "ipython2",
   "version": "2.7.9"
  }
 },
 "nbformat": 4,
 "nbformat_minor": 0
}
