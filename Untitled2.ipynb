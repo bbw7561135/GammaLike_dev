{
 "cells": [
  {
   "cell_type": "code",
   "execution_count": 1,
   "metadata": {
    "collapsed": false
   },
   "outputs": [
    {
     "ename": "IOError",
     "evalue": "[Errno 2] No such file or directory: '-f'",
     "output_type": "error",
     "traceback": [
      "\u001b[1;31m---------------------------------------------------------------------------\u001b[0m",
      "\u001b[1;31mIOError\u001b[0m                                   Traceback (most recent call last)",
      "\u001b[1;32m<ipython-input-1-17cd0835d068>\u001b[0m in \u001b[0;36m<module>\u001b[1;34m()\u001b[0m\n\u001b[0;32m     37\u001b[0m \u001b[1;31m# analyse the file given as first argument\u001b[0m\u001b[1;33m\u001b[0m\u001b[1;33m\u001b[0m\u001b[0m\n\u001b[0;32m     38\u001b[0m \u001b[0mdatafile\u001b[0m \u001b[1;33m=\u001b[0m \u001b[0msys\u001b[0m\u001b[1;33m.\u001b[0m\u001b[0margv\u001b[0m\u001b[1;33m[\u001b[0m\u001b[1;36m1\u001b[0m\u001b[1;33m]\u001b[0m\u001b[1;33m\u001b[0m\u001b[0m\n\u001b[1;32m---> 39\u001b[1;33m \u001b[0mydata\u001b[0m \u001b[1;33m=\u001b[0m \u001b[0mnumpy\u001b[0m\u001b[1;33m.\u001b[0m\u001b[0mloadtxt\u001b[0m\u001b[1;33m(\u001b[0m\u001b[0mdatafile\u001b[0m\u001b[1;33m)\u001b[0m\u001b[1;33m\u001b[0m\u001b[0m\n\u001b[0m\u001b[0;32m     40\u001b[0m \u001b[1;33m\u001b[0m\u001b[0m\n\u001b[0;32m     41\u001b[0m \u001b[1;31m# analyse with 1 gaussian\u001b[0m\u001b[1;33m\u001b[0m\u001b[1;33m\u001b[0m\u001b[0m\n",
      "\u001b[1;32m/home/carlson/anaconda/lib/python2.7/site-packages/numpy/lib/npyio.pyc\u001b[0m in \u001b[0;36mloadtxt\u001b[1;34m(fname, dtype, comments, delimiter, converters, skiprows, usecols, unpack, ndmin)\u001b[0m\n\u001b[0;32m    689\u001b[0m                 \u001b[0mfh\u001b[0m \u001b[1;33m=\u001b[0m \u001b[0miter\u001b[0m\u001b[1;33m(\u001b[0m\u001b[0mbz2\u001b[0m\u001b[1;33m.\u001b[0m\u001b[0mBZ2File\u001b[0m\u001b[1;33m(\u001b[0m\u001b[0mfname\u001b[0m\u001b[1;33m)\u001b[0m\u001b[1;33m)\u001b[0m\u001b[1;33m\u001b[0m\u001b[0m\n\u001b[0;32m    690\u001b[0m             \u001b[1;32melif\u001b[0m \u001b[0msys\u001b[0m\u001b[1;33m.\u001b[0m\u001b[0mversion_info\u001b[0m\u001b[1;33m[\u001b[0m\u001b[1;36m0\u001b[0m\u001b[1;33m]\u001b[0m \u001b[1;33m==\u001b[0m \u001b[1;36m2\u001b[0m\u001b[1;33m:\u001b[0m\u001b[1;33m\u001b[0m\u001b[0m\n\u001b[1;32m--> 691\u001b[1;33m                 \u001b[0mfh\u001b[0m \u001b[1;33m=\u001b[0m \u001b[0miter\u001b[0m\u001b[1;33m(\u001b[0m\u001b[0mopen\u001b[0m\u001b[1;33m(\u001b[0m\u001b[0mfname\u001b[0m\u001b[1;33m,\u001b[0m \u001b[1;34m'U'\u001b[0m\u001b[1;33m)\u001b[0m\u001b[1;33m)\u001b[0m\u001b[1;33m\u001b[0m\u001b[0m\n\u001b[0m\u001b[0;32m    692\u001b[0m             \u001b[1;32melse\u001b[0m\u001b[1;33m:\u001b[0m\u001b[1;33m\u001b[0m\u001b[0m\n\u001b[0;32m    693\u001b[0m                 \u001b[0mfh\u001b[0m \u001b[1;33m=\u001b[0m \u001b[0miter\u001b[0m\u001b[1;33m(\u001b[0m\u001b[0mopen\u001b[0m\u001b[1;33m(\u001b[0m\u001b[0mfname\u001b[0m\u001b[1;33m)\u001b[0m\u001b[1;33m)\u001b[0m\u001b[1;33m\u001b[0m\u001b[0m\n",
      "\u001b[1;31mIOError\u001b[0m: [Errno 2] No such file or directory: '-f'"
     ]
    }
   ],
   "source": [
    "import json\n",
    "import sys\n",
    "import numpy\n",
    "from numpy import log, exp, pi\n",
    "import scipy.stats, scipy\n",
    "import pymultinest\n",
    "import matplotlib.pyplot as plt\n",
    "\n",
    "x = numpy.linspace(0, 1, 400)\n",
    "ydata = None # loaded below\n",
    "\n",
    "noise = 0.1\n",
    "\n",
    "# model for 2 gaussians, same width, fixed offset\n",
    "def model(pos1, width, height1, height2):\n",
    "\tpos2 = pos1 + 0.05\n",
    "\treturn  height1 * scipy.stats.norm.pdf(x, pos1, width) + \\\n",
    "\t\theight2 * scipy.stats.norm.pdf(x, pos2, width)\n",
    "\n",
    "# a more elaborate prior\n",
    "# parameters are pos1, width, height1, [height2]\n",
    "def prior(cube, ndim, nparams):\n",
    "\t#cube[0] = cube[0]            # uniform prior between 0:1\n",
    "\tcube[1] = 10**(cube[1]*8 - 4) # log-uniform prior between 10^-4 and 10^4\n",
    "\tcube[2] = 10**(cube[2]*4 - 4) # log-uniform prior between 10^-4 and 1\n",
    "\tif ndim < 4:\n",
    "\t\treturn\n",
    "\tcube[3] = 10**(cube[3]*4 - 4) # log-uniform prior between 10^-4 and 1\n",
    "\n",
    "\n",
    "def loglike(cube, ndim, nparams):\n",
    "\tpos1, width, height1 = cube[0], cube[1], cube[2]\n",
    "\theight2 = cube[3] if ndim > 3 else 0\n",
    "\tymodel = model(pos1, width, height1, height2)\n",
    "\tloglikelihood = (-0.5 * ((ymodel - ydata) / noise)**2).sum()\n",
    "\treturn loglikelihood\n",
    "\n",
    "# analyse the file given as first argument\n",
    "datafile = sys.argv[1]\n",
    "ydata = numpy.loadtxt(datafile)\n",
    "\n",
    "# analyse with 1 gaussian\n",
    "\n",
    "# number of dimensions our problem has\n",
    "parameters = [\"pos1\", \"width\", \"height1\"]\n",
    "n_params = len(parameters)\n",
    "\n",
    "# run MultiNest\n",
    "pymultinest.run(loglike, prior, n_params, outputfiles_basename=datafile + '_1_', resume = False, verbose = True)\n",
    "json.dump(parameters, open(datafile + '_1_params.json', 'w')) # save parameter names\n",
    "\n",
    "# plot the distribution of a posteriori possible models\n",
    "plt.figure() \n",
    "plt.plot(x, ydata, '+ ', color='red', label='data')\n",
    "a = pymultinest.Analyzer(outputfiles_basename=datafile + '_1_', n_params = n_params)\n",
    "for (pos1, width, height1) in a.get_equal_weighted_posterior()[::100,:-1]:\n",
    "\tplt.plot(x, model(pos1, width, height1, 0), '-', color='blue', alpha=0.3, label='data')\n",
    "\n",
    "plt.savefig(datafile + '_1_posterior.pdf')\n",
    "plt.close()\n",
    "\n",
    "a_lnZ = a.get_stats()['global evidence']\n",
    "print \n",
    "print '************************'\n",
    "print 'MAIN RESULT: Evidence Z '\n",
    "print '************************'\n",
    "print '  log Z for model with 1 line = %.1f' % (a_lnZ / log(10))\n",
    "print\n",
    "\n",
    "# TODO: implement a model with 2 lines?"
   ]
  },
  {
   "cell_type": "code",
   "execution_count": null,
   "metadata": {
    "collapsed": true
   },
   "outputs": [],
   "source": []
  }
 ],
 "metadata": {
  "kernelspec": {
   "display_name": "Python 2",
   "language": "python",
   "name": "python2"
  },
  "language_info": {
   "codemirror_mode": {
    "name": "ipython",
    "version": 2
   },
   "file_extension": ".py",
   "mimetype": "text/x-python",
   "name": "python",
   "nbconvert_exporter": "python",
   "pygments_lexer": "ipython2",
   "version": "2.7.10"
  }
 },
 "nbformat": 4,
 "nbformat_minor": 0
}
