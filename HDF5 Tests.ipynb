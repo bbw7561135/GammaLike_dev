{
 "cells": [
  {
   "cell_type": "code",
   "execution_count": 12,
   "metadata": {
    "collapsed": false
   },
   "outputs": [],
   "source": [
    "import h5py\n",
    "\n",
    "\n",
    "rand = np.random.ranf((100000,1000),).astype(np.float32)\n",
    "\n",
    "\n",
    "\n"
   ]
  },
  {
   "cell_type": "code",
   "execution_count": 15,
   "metadata": {
    "collapsed": false
   },
   "outputs": [
    {
     "name": "stdout",
     "output_type": "stream",
     "text": [
      "CPU times: user 2.38 ms, sys: 301 ms, total: 304 ms\n",
      "Wall time: 2.61 s\n"
     ]
    }
   ],
   "source": [
    "%time np.save('test.npy',rand)"
   ]
  },
  {
   "cell_type": "code",
   "execution_count": 19,
   "metadata": {
    "collapsed": false
   },
   "outputs": [
    {
     "name": "stdout",
     "output_type": "stream",
     "text": [
      "10 loops, best of 3: 124 ms per loop\n"
     ]
    }
   ],
   "source": [
    "%timeit np.load('test.npy')"
   ]
  },
  {
   "cell_type": "code",
   "execution_count": 1,
   "metadata": {
    "collapsed": true
   },
   "outputs": [],
   "source": [
    "import h5py"
   ]
  },
  {
   "cell_type": "code",
   "execution_count": 44,
   "metadata": {
    "collapsed": false
   },
   "outputs": [
    {
     "name": "stdout",
     "output_type": "stream",
     "text": [
      "[]\n",
      "[u'galdef']\n"
     ]
    }
   ],
   "source": [
    "\n",
    "\n",
    "def StripHDF5Templates(infile, outfile):\n",
    "    print 'Stripping file', infile\n",
    "    \n",
    "    h5 = h5py.File(infile, 'r')\n",
    "    h5_2 = h5py.File(outfile)\n",
    "\n",
    "    for f in h5: \n",
    "        print f\n",
    "        if f != 'templates':\n",
    "            try:\n",
    "                h5['/'].copy(f, h5_2['/'])\n",
    "            except:\n",
    "                del h5_2['/'+f]\n",
    "                h5['/'].copy(f, h5_2['/'])\n",
    "    \n",
    "\n",
    "for i in range(0,100): \n",
    "    StripHDF5Templates('./mod_c_%i.hdf5'%i,'./mod_c_%i_stripped.hdf5'%i)\n",
    "\n",
    "\n"
   ]
  },
  {
   "cell_type": "code",
   "execution_count": 45,
   "metadata": {
    "collapsed": false
   },
   "outputs": [
    {
     "data": {
      "text/plain": [
       "'3'"
      ]
     },
     "execution_count": 45,
     "metadata": {},
     "output_type": "execute_result"
    }
   ],
   "source": [
    "'%i' % 3"
   ]
  },
  {
   "cell_type": "code",
   "execution_count": 62,
   "metadata": {
    "collapsed": false
   },
   "outputs": [
    {
     "data": {
      "text/plain": [
       "[u'flux_DM',\n",
       " u'fluxunc_DM',\n",
       " u'flux_Pi0_Brems',\n",
       " u'fluxunc_Pi0_Brems',\n",
       " u'flux_Isotropic',\n",
       " u'fluxunc_Isotropic',\n",
       " u'flux_ICS',\n",
       " u'fluxunc_ICS',\n",
       " u'flux_Bubbles',\n",
       " u'fluxunc_Bubbles',\n",
       " u'loglike_total',\n",
       " u'energies',\n",
       " u'bins',\n",
       " u'irf',\n",
       " u'evclass',\n",
       " u'convtype',\n",
       " u'phfile',\n",
       " u'tag']"
      ]
     },
     "execution_count": 62,
     "metadata": {},
     "output_type": "execute_result"
    }
   ],
   "source": [
    "h = h5py.File('./mod_c/mod_c_0_stripped.hdf5')\n",
    "\n",
    "h['/fit_results/GC/'].attrs.keys()\n"
   ]
  },
  {
   "cell_type": "code",
   "execution_count": null,
   "metadata": {
    "collapsed": true
   },
   "outputs": [],
   "source": []
  }
 ],
 "metadata": {
  "kernelspec": {
   "display_name": "Python 2",
   "language": "python",
   "name": "python2"
  },
  "language_info": {
   "codemirror_mode": {
    "name": "ipython",
    "version": 2
   },
   "file_extension": ".py",
   "mimetype": "text/x-python",
   "name": "python",
   "nbconvert_exporter": "python",
   "pygments_lexer": "ipython2",
   "version": "2.7.9"
  }
 },
 "nbformat": 4,
 "nbformat_minor": 0
}
