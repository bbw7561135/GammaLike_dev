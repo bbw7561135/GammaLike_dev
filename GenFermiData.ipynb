{
 "cells": [
  {
   "cell_type": "code",
   "execution_count": null,
   "metadata": {
    "collapsed": true
   },
   "outputs": [],
   "source": [
    "import sys\n",
    "\n",
    "\n",
    "def GenDataScript(\n",
    "        ):\n"
   ]
  }
 ],
 "metadata": {
  "kernelspec": {
   "display_name": "IPython (Python 2)",
   "name": "python2"
  },
  "language_info": {
   "codemirror_mode": {
    "name": "ipython",
    "version": 2
   },
   "file_extension": ".py",
   "mimetype": "text/x-python",
   "name": "python",
   "nbconvert_exporter": "python",
   "pygments_lexer": "ipython2"
  },
  "signature": "sha256:17c7f156f03ede4981c47cfd2bcb684210aa7acd7f8efbe2d40d748d392cc0bb"
 },
 "nbformat": 4,
 "nbformat_minor": 0
}