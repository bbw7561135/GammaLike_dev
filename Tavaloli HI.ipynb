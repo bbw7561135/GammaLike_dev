{
 "cells": [
  {
   "cell_type": "code",
   "execution_count": 7,
   "metadata": {
    "collapsed": false
   },
   "outputs": [
    {
     "name": "stdout",
     "output_type": "stream",
     "text": [
      "<bound method Header.items of SIMPLE  =                    T / Written by IDL:  Thu Jul 26 11:20:56 2012      \n",
      "BITPIX  =                    -32 / Number of bits per data pixel                \n",
      "NAXIS   =                      3 / Number of data axes                          \n",
      "NAXIS1  =                    777 /                                              \n",
      "NAXIS2  =                    721 /                                              \n",
      "NAXIS3  =                    361 /                                              \n",
      "CTYPE1  = 'heliocentric radius' / axis type                                     \n",
      "CRVAL1  =             1.000E-02  / radius                                       \n",
      "CDELT1  =             5.000E-02  / radius increment                             \n",
      "CUNIT1  = 'kpc     '           / unit type                                      \n",
      "CTYPE2  = 'longitude'          / axis type                                      \n",
      "CRVAL2  =             0.000E+00  / longitude                                    \n",
      "CDELT2  =             5.000E-01  / longitude increment                          \n",
      "CUNIT2  = 'deg     '           / unit type                                      \n",
      "CTYPE3  = 'latitude'           / axis type                                      \n",
      "CRVAL2  =            -9.000E+01  / latitude                                     \n",
      "CDELT2  =             5.000E-01  / latitude increment                           \n",
      "CUNIT2  = 'deg     '           / unit type                                      \n",
      "COMMENT Atomic Hydrogen Number Density in Units cm^-3                           \n",
      "COMMENT deconvolved by M.Tavakoli from                                          \n",
      "COMMENT Leiden/Argentine/Bonn Galactic HI Survey                                \n",
      "COMMENT Hanning smoothed version with Ts = 150K                                 \n",
      "COMMENT Galactic center is at (r,l,b)=(8.5,0,0)                                 >\n"
     ]
    }
   ],
   "source": [
    "hdu = pyfits.open('./tavakoli_hi/HI_number_density_rlb.fits')\n",
    "print hdu[0].header.items\n",
    "\n",
    "\n",
    "    "
   ]
  },
  {
   "cell_type": "code",
   "execution_count": null,
   "metadata": {
    "collapsed": true
   },
   "outputs": [],
   "source": []
  }
 ],
 "metadata": {
  "kernelspec": {
   "display_name": "IPython (Python 2)",
   "name": "python2"
  },
  "language_info": {
   "codemirror_mode": {
    "name": "ipython",
    "version": 2
   },
   "file_extension": ".py",
   "mimetype": "text/x-python",
   "name": "python",
   "nbconvert_exporter": "python",
   "pygments_lexer": "ipython2"
  },
  "signature": "sha256:32928ca17cf84fc325033570a349fe312e1854c57304c34f4a44e3de51240e0b"
 },
 "nbformat": 4,
 "nbformat_minor": 0
}